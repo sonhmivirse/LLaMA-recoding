{
 "cells": [
  {
   "cell_type": "code",
   "execution_count": 6,
   "metadata": {},
   "outputs": [
    {
     "data": {
      "text/plain": [
       "(Test(name='Son', age=2), {'name': 'Son', 'age': 2})"
      ]
     },
     "execution_count": 6,
     "metadata": {},
     "output_type": "execute_result"
    }
   ],
   "source": [
    "from dataclasses import dataclass, asdict\n",
    "\n",
    "\n",
    "\n",
    "@dataclass\n",
    "class Test:\n",
    "    name: str\n",
    "    age: int\n",
    "    \n",
    "    def __post_init__(self):\n",
    "        assert self.age > 0, \"Age must be positive value\"\n",
    "        \n",
    "        \n",
    "a = Test(\"Son\", 2)\n",
    "\n",
    "b = asdict(a)\n",
    "a,b\n"
   ]
  },
  {
   "cell_type": "code",
   "execution_count": 3,
   "metadata": {},
   "outputs": [
    {
     "name": "stderr",
     "output_type": "stream",
     "text": [
      "validation iterations:  21%|\u001b[32m██        \u001b[0m| 21/100 [00:27<01:43,  1.31s/it]\n",
      "validation iterations: 21708it [26:12:28,  1.01s/it]                    1.01s/it]"
     ]
    }
   ],
   "source": [
    "from tqdm import tqdm\n",
    "import time\n",
    "\n",
    "val_iters = 100\n",
    "\n",
    "inner_pbar = inner_pbar = tqdm(range(val_iters), colour='green', desc='validation iterations')\n",
    "\n",
    "for x, y in [(1, 2), (3, 4), (5, 6)] * 100000000:\n",
    "    time.sleep(1)\n",
    "    inner_pbar.update(1)\n",
    "    \n",
    "inner_pbar.close()"
   ]
  },
  {
   "cell_type": "code",
   "execution_count": 3,
   "metadata": {},
   "outputs": [
    {
     "ename": "NameError",
     "evalue": "name '__file__' is not defined",
     "output_type": "error",
     "traceback": [
      "\u001b[1;31m---------------------------------------------------------------------------\u001b[0m",
      "\u001b[1;31mNameError\u001b[0m                                 Traceback (most recent call last)",
      "\u001b[1;32m~\\AppData\\Local\\Temp\\ipykernel_6124\\30278553.py\u001b[0m in \u001b[0;36m<module>\u001b[1;34m\u001b[0m\n\u001b[0;32m      2\u001b[0m \u001b[1;32mimport\u001b[0m \u001b[0msys\u001b[0m\u001b[1;33m\u001b[0m\u001b[1;33m\u001b[0m\u001b[0m\n\u001b[0;32m      3\u001b[0m \u001b[1;33m\u001b[0m\u001b[0m\n\u001b[1;32m----> 4\u001b[1;33m \u001b[0mwd\u001b[0m \u001b[1;33m=\u001b[0m \u001b[0mPath\u001b[0m\u001b[1;33m(\u001b[0m\u001b[0m__file__\u001b[0m\u001b[1;33m)\u001b[0m\u001b[1;33m.\u001b[0m\u001b[0mparent\u001b[0m\u001b[1;33m.\u001b[0m\u001b[0mparent\u001b[0m\u001b[1;33m.\u001b[0m\u001b[0mresolve\u001b[0m\u001b[1;33m(\u001b[0m\u001b[1;33m)\u001b[0m\u001b[1;33m\u001b[0m\u001b[1;33m\u001b[0m\u001b[0m\n\u001b[0m",
      "\u001b[1;31mNameError\u001b[0m: name '__file__' is not defined"
     ]
    }
   ],
   "source": [
    "from pathlib import Path\n",
    "import sys\n",
    "\n",
    "wd = Path(__file__).parent.parent.resolve()"
   ]
  },
  {
   "cell_type": "code",
   "execution_count": 7,
   "metadata": {},
   "outputs": [
    {
     "name": "stdout",
     "output_type": "stream",
     "text": [
      "{\"name\": \"son\"}\n",
      "None\n"
     ]
    }
   ],
   "source": [
    "import json\n",
    "\n",
    "obj = {\n",
    "    \"name\": \"son\"\n",
    "}\n",
    "\n",
    "result = json.dumps(obj)\n",
    "print(result)\n",
    "\n",
    "with open(\"ok.json\", \"w\", encoding=\"utf-8\") as f:\n",
    "    result = json.dump(obj, f)\n",
    "\n",
    "print(result)"
   ]
  },
  {
   "cell_type": "code",
   "execution_count": 10,
   "metadata": {},
   "outputs": [
    {
     "name": "stdout",
     "output_type": "stream",
     "text": [
      "{'name': 'son'}\n",
      "{'name': 'son'}\n"
     ]
    }
   ],
   "source": [
    "with open(\"ok.json\", \"r\", encoding=\"utf-8\") as f:\n",
    "    result = json.load(f)\n",
    "    \n",
    "print(result)\n",
    "\n",
    "result = json.loads('{\"name\": \"son\"}')\n",
    "print(result)"
   ]
  },
  {
   "cell_type": "code",
   "execution_count": 4,
   "metadata": {},
   "outputs": [
    {
     "data": {
      "text/plain": [
       "15"
      ]
     },
     "execution_count": 4,
     "metadata": {},
     "output_type": "execute_result"
    }
   ],
   "source": [
    "import functools\n",
    "\n",
    "def multiply(x, y):\n",
    "    return x* y\n",
    "\n",
    "double_fn = functools.partial(\n",
    "    multiply,\n",
    "    y = 2\n",
    ")\n",
    "\n",
    "double_fn(5, y=3)"
   ]
  }
 ],
 "metadata": {
  "kernelspec": {
   "display_name": "base",
   "language": "python",
   "name": "python3"
  },
  "language_info": {
   "codemirror_mode": {
    "name": "ipython",
    "version": 3
   },
   "file_extension": ".py",
   "mimetype": "text/x-python",
   "name": "python",
   "nbconvert_exporter": "python",
   "pygments_lexer": "ipython3",
   "version": "3.9.13"
  }
 },
 "nbformat": 4,
 "nbformat_minor": 2
}
